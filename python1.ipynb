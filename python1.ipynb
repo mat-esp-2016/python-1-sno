{
 "cells": [
  {
   "cell_type": "markdown",
   "metadata": {
    "collapsed": true
   },
   "source": [
    "### Importando os pacotes de funcoes numpy e matplotlib.pyplot\n",
    "\n",
    "* Usamos o comando \"as\" para encurtar os caminhos."
   ]
  },
  {
   "cell_type": "code",
   "execution_count": 1,
   "metadata": {
    "collapsed": true
   },
   "outputs": [],
   "source": [
    "import numpy as np\n",
    "import matplotlib.pyplot as plt"
   ]
  },
  {
   "cell_type": "code",
   "execution_count": 2,
   "metadata": {
    "collapsed": true
   },
   "outputs": [],
   "source": [
    "%matplotlib inline"
   ]
  },
  {
   "cell_type": "markdown",
   "metadata": {
    "collapsed": true
   },
   "source": [
    "### Usamos o numpy para carregar os dados do txt\n",
    "\n",
    "* Definimos que os comentários seriam precedidos por \"%\".\n",
    "\n",
    "* Utilizamos \";\" ao final da linha para ocultar os dados e não poluir visualmente o código."
   ]
  },
  {
   "cell_type": "code",
   "execution_count": 3,
   "metadata": {
    "collapsed": true
   },
   "outputs": [],
   "source": [
    "dados = np.loadtxt(\"dados/brazil-TAVG-Trend.txt\", comments= \"%\");"
   ]
  },
  {
   "cell_type": "markdown",
   "metadata": {},
   "source": [
    "### Nomeamos as variáveis\n",
    "\n",
    "* Para a tarefa, usaremos as anomalias anuais (anom_an).\n",
    "* Para o bônus, usaremmos as anomalias decadais (anom_dec) e incertezas decadais(inc_dec)"
   ]
  },
  {
   "cell_type": "code",
   "execution_count": 5,
   "metadata": {
    "collapsed": true
   },
   "outputs": [],
   "source": [
    "ano = dados[:,0]\n",
    "mes = dados [:,1]\n",
    "anom_an = dados[:,4]\n",
    "anom_dec = dados[:,8]\n",
    "inc_dec = dados[:,9]"
   ]
  },
  {
   "cell_type": "code",
   "execution_count": null,
   "metadata": {
    "collapsed": true
   },
   "outputs": [],
   "source": []
  }
 ],
 "metadata": {
  "anaconda-cloud": {},
  "kernelspec": {
   "display_name": "Python [Root]",
   "language": "python",
   "name": "Python [Root]"
  },
  "language_info": {
   "codemirror_mode": {
    "name": "ipython",
    "version": 3
   },
   "file_extension": ".py",
   "mimetype": "text/x-python",
   "name": "python",
   "nbconvert_exporter": "python",
   "pygments_lexer": "ipython3",
   "version": "3.5.2"
  }
 },
 "nbformat": 4,
 "nbformat_minor": 0
}
